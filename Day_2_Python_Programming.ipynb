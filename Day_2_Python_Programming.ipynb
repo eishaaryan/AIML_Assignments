{
  "nbformat": 4,
  "nbformat_minor": 0,
  "metadata": {
    "colab": {
      "provenance": [],
      "include_colab_link": true
    },
    "kernelspec": {
      "name": "python3",
      "display_name": "Python 3"
    },
    "language_info": {
      "name": "python"
    }
  },
  "cells": [
    {
      "cell_type": "markdown",
      "metadata": {
        "id": "view-in-github",
        "colab_type": "text"
      },
      "source": [
        "<a href=\"https://colab.research.google.com/github/eishaaryan/AIML_Assignments/blob/main/Day_2_Python_Programming.ipynb\" target=\"_parent\"><img src=\"https://colab.research.google.com/assets/colab-badge.svg\" alt=\"Open In Colab\"/></a>"
      ]
    },
    {
      "cell_type": "code",
      "execution_count": null,
      "metadata": {
        "colab": {
          "base_uri": "https://localhost:8080/"
        },
        "id": "xuJtH4UpX1wb",
        "outputId": "00eb69ca-6810-47f0-cbaa-7d90b82d2642"
      },
      "outputs": [
        {
          "output_type": "stream",
          "name": "stdout",
          "text": [
            "We are learning Python Programming by Edulakes Solutions in association with NSS IIT Roorkee\n"
          ]
        }
      ],
      "source": [
        "a1 = \"We are learning Python Programming by Edulakes Solutions in association with NSS IIT Roorkee\"\n",
        "print(a1)"
      ]
    },
    {
      "cell_type": "code",
      "source": [
        "a1[3]"
      ],
      "metadata": {
        "colab": {
          "base_uri": "https://localhost:8080/",
          "height": 35
        },
        "id": "fgGvECJAYG-z",
        "outputId": "f831fa72-792d-458d-eb12-1d76ad857358"
      },
      "execution_count": null,
      "outputs": [
        {
          "output_type": "execute_result",
          "data": {
            "text/plain": [
              "'a'"
            ],
            "application/vnd.google.colaboratory.intrinsic+json": {
              "type": "string"
            }
          },
          "metadata": {},
          "execution_count": 3
        }
      ]
    },
    {
      "cell_type": "code",
      "source": [
        "a1[3:10]"
      ],
      "metadata": {
        "colab": {
          "base_uri": "https://localhost:8080/",
          "height": 35
        },
        "id": "MiH1MwbEYctX",
        "outputId": "1411b4b7-8e36-47cd-db76-9f029a4ba95f"
      },
      "execution_count": null,
      "outputs": [
        {
          "output_type": "execute_result",
          "data": {
            "text/plain": [
              "'are lea'"
            ],
            "application/vnd.google.colaboratory.intrinsic+json": {
              "type": "string"
            }
          },
          "metadata": {},
          "execution_count": 4
        }
      ]
    },
    {
      "cell_type": "code",
      "source": [
        "print(a1)\n",
        "print(a1.capitalize())\n",
        "print(a1.lower())\n",
        "print(a1.upper())\n",
        "print(a1.title())\n",
        "print(a1.swapcase())"
      ],
      "metadata": {
        "colab": {
          "base_uri": "https://localhost:8080/"
        },
        "id": "7n7utHJaYhlK",
        "outputId": "f3998ad5-8916-4e74-ed3b-99521e1977d2"
      },
      "execution_count": null,
      "outputs": [
        {
          "output_type": "stream",
          "name": "stdout",
          "text": [
            "We are learning Python Programming by Edulakes Solutions in association with NSS IIT Roorkee\n",
            "We are learning python programming by edulakes solutions in association with nss iit roorkee\n",
            "we are learning python programming by edulakes solutions in association with nss iit roorkee\n",
            "WE ARE LEARNING PYTHON PROGRAMMING BY EDULAKES SOLUTIONS IN ASSOCIATION WITH NSS IIT ROORKEE\n",
            "We Are Learning Python Programming By Edulakes Solutions In Association With Nss Iit Roorkee\n",
            "wE ARE LEARNING pYTHON pROGRAMMING BY eDULAKES sOLUTIONS IN ASSOCIATION WITH nss iit rOORKEE\n"
          ]
        }
      ]
    },
    {
      "cell_type": "code",
      "source": [
        "a1.count(\"a\")"
      ],
      "metadata": {
        "colab": {
          "base_uri": "https://localhost:8080/"
        },
        "id": "tT8RUyXlY-fd",
        "outputId": "1cc75ac6-00e2-4090-c196-43c7e406e142"
      },
      "execution_count": null,
      "outputs": [
        {
          "output_type": "execute_result",
          "data": {
            "text/plain": [
              "6"
            ]
          },
          "metadata": {},
          "execution_count": 6
        }
      ]
    },
    {
      "cell_type": "code",
      "source": [
        "a1.count(\"Python\")"
      ],
      "metadata": {
        "colab": {
          "base_uri": "https://localhost:8080/"
        },
        "id": "sT5nsSiSZ10M",
        "outputId": "3f6c10ec-e90b-42ec-9a8e-9f5f6dd677d4"
      },
      "execution_count": null,
      "outputs": [
        {
          "output_type": "execute_result",
          "data": {
            "text/plain": [
              "1"
            ]
          },
          "metadata": {},
          "execution_count": 7
        }
      ]
    },
    {
      "cell_type": "code",
      "source": [
        "a1.index(\"Python\")"
      ],
      "metadata": {
        "colab": {
          "base_uri": "https://localhost:8080/"
        },
        "id": "6gkCe_YoZ8I-",
        "outputId": "8e82a599-db9a-4320-9bce-214806b60c4f"
      },
      "execution_count": null,
      "outputs": [
        {
          "output_type": "execute_result",
          "data": {
            "text/plain": [
              "16"
            ]
          },
          "metadata": {},
          "execution_count": 8
        }
      ]
    },
    {
      "cell_type": "code",
      "source": [
        "a1.index(\"ML\")"
      ],
      "metadata": {
        "colab": {
          "base_uri": "https://localhost:8080/",
          "height": 167
        },
        "id": "fg4Dm5lQaa2O",
        "outputId": "22d48f01-2f79-454a-be2d-510dff2e0bd9"
      },
      "execution_count": null,
      "outputs": [
        {
          "output_type": "error",
          "ename": "ValueError",
          "evalue": "ignored",
          "traceback": [
            "\u001b[0;31m---------------------------------------------------------------------------\u001b[0m",
            "\u001b[0;31mValueError\u001b[0m                                Traceback (most recent call last)",
            "\u001b[0;32m<ipython-input-9-993f1959802d>\u001b[0m in \u001b[0;36m<cell line: 1>\u001b[0;34m()\u001b[0m\n\u001b[0;32m----> 1\u001b[0;31m \u001b[0ma1\u001b[0m\u001b[0;34m.\u001b[0m\u001b[0mindex\u001b[0m\u001b[0;34m(\u001b[0m\u001b[0;34m\"ML\"\u001b[0m\u001b[0;34m)\u001b[0m\u001b[0;34m\u001b[0m\u001b[0;34m\u001b[0m\u001b[0m\n\u001b[0m",
            "\u001b[0;31mValueError\u001b[0m: substring not found"
          ]
        }
      ]
    },
    {
      "cell_type": "code",
      "source": [
        "a1.find(\"ML\")"
      ],
      "metadata": {
        "colab": {
          "base_uri": "https://localhost:8080/"
        },
        "id": "aoteEm2pajUP",
        "outputId": "293f9c39-2b87-4c27-b50e-f4bb74620d51"
      },
      "execution_count": null,
      "outputs": [
        {
          "output_type": "execute_result",
          "data": {
            "text/plain": [
              "-1"
            ]
          },
          "metadata": {},
          "execution_count": 10
        }
      ]
    },
    {
      "cell_type": "code",
      "source": [
        "a1.find(\"Python\")"
      ],
      "metadata": {
        "colab": {
          "base_uri": "https://localhost:8080/"
        },
        "id": "iCcepIlGaru1",
        "outputId": "89f27c32-07d9-4c1a-c618-65e0a9534651"
      },
      "execution_count": null,
      "outputs": [
        {
          "output_type": "execute_result",
          "data": {
            "text/plain": [
              "16"
            ]
          },
          "metadata": {},
          "execution_count": 11
        }
      ]
    },
    {
      "cell_type": "code",
      "source": [
        "#### Input Function and Format function"
      ],
      "metadata": {
        "id": "45pZXm9PawKQ"
      },
      "execution_count": null,
      "outputs": []
    },
    {
      "cell_type": "code",
      "source": [
        "first_name = input(\"Enter First Name:\")\n",
        "last_name = input(\"Enter Last Name:\")\n",
        "age = input(\"Enter Age\")\n",
        "print(\"The name of the user is \"+first_name+\" \"+last_name+\" and his/her age is \"+age)"
      ],
      "metadata": {
        "colab": {
          "base_uri": "https://localhost:8080/"
        },
        "id": "vwBSllqIbHBZ",
        "outputId": "31e22a7c-3015-421e-d198-e302ca70b3d3"
      },
      "execution_count": null,
      "outputs": [
        {
          "output_type": "stream",
          "name": "stdout",
          "text": [
            "Enter First Name:Umang\n",
            "Enter Last Name:Kejriwal\n",
            "Enter Age30\n",
            "The name of the user is Umang Kejriwal and his/her age is 30\n"
          ]
        }
      ]
    },
    {
      "cell_type": "code",
      "source": [
        "a1 = int(input(\"Enter 1st number\"))\n",
        "a2 = int(input(\"Enter 2nd number\"))\n",
        "sum = a1 + a2\n",
        "print(\"The sum is\",sum)"
      ],
      "metadata": {
        "id": "5m8bzSD4b-_6"
      },
      "execution_count": null,
      "outputs": []
    },
    {
      "cell_type": "code",
      "source": [
        "a1 = int(input(\"Enter 1st number\"))\n",
        "a2 = int(input(\"Enter 2nd number\"))\n",
        "sum = a1 + a2\n",
        "print(\"The sum is \"+str(sum))"
      ],
      "metadata": {
        "colab": {
          "base_uri": "https://localhost:8080/"
        },
        "id": "kbK8MF92clsG",
        "outputId": "0ecad26e-dd26-486e-df23-aa92562e4df2"
      },
      "execution_count": null,
      "outputs": [
        {
          "output_type": "stream",
          "name": "stdout",
          "text": [
            "Enter 1st number30\n",
            "Enter 2nd number20\n",
            "The sum is50\n"
          ]
        }
      ]
    },
    {
      "cell_type": "code",
      "source": [
        "a1 = int(input(\"Enter 1st number\"))\n",
        "a2 = int(input(\"Enter 2nd number\"))\n",
        "sum = a1 + a2\n",
        "dif = a1 - a2\n",
        "print(\"The sum is {} and dif is {}\".format(sum,dif))"
      ],
      "metadata": {
        "colab": {
          "base_uri": "https://localhost:8080/"
        },
        "id": "9TpJ7yNddJNj",
        "outputId": "659abf9c-87af-486a-d307-f3ac809a35f2"
      },
      "execution_count": null,
      "outputs": [
        {
          "output_type": "stream",
          "name": "stdout",
          "text": [
            "Enter 1st number100\n",
            "Enter 2nd number30\n",
            "The sum is 130 and dif is 70\n"
          ]
        }
      ]
    },
    {
      "cell_type": "code",
      "source": [
        "#### Conditional Statement"
      ],
      "metadata": {
        "id": "8QWkKdvpdhCD"
      },
      "execution_count": null,
      "outputs": []
    },
    {
      "cell_type": "code",
      "source": [
        "a = int(input(\"Enter Number\"))\n",
        "if a>0:\n",
        "  print(\"Positive Number\")\n",
        "elif a<0:\n",
        "  print(\"Negative Number\")\n",
        "else:\n",
        "  print(\"It's a zero\")"
      ],
      "metadata": {
        "colab": {
          "base_uri": "https://localhost:8080/"
        },
        "id": "7pudmddeetg3",
        "outputId": "dbf559aa-39d0-4e0c-e5bc-2404398b1971"
      },
      "execution_count": null,
      "outputs": [
        {
          "output_type": "stream",
          "name": "stdout",
          "text": [
            "Enter Number-3\n",
            "Negative Number\n"
          ]
        }
      ]
    },
    {
      "cell_type": "code",
      "source": [
        "a = int(input(\"Enter Number\"))\n",
        "if a>0:\n",
        "  print(\"Positive Number\")\n",
        "elif a<0:\n",
        "  print(\"Negative Number\")\n",
        "elif a==0:\n",
        "  print(\"It's a zero\")"
      ],
      "metadata": {
        "colab": {
          "base_uri": "https://localhost:8080/"
        },
        "id": "wQI0OrjEgv3T",
        "outputId": "084c1fcb-bcae-41c3-9bae-948b598f0ee8"
      },
      "execution_count": null,
      "outputs": [
        {
          "output_type": "stream",
          "name": "stdout",
          "text": [
            "Enter Number0\n",
            "It's a zero\n"
          ]
        }
      ]
    },
    {
      "cell_type": "code",
      "source": [
        "### Short Hand If Else\n",
        "a = int(input(\"Enter Number\"))\n",
        "print(\"Positive Number\") if a>0 else print(\"Negative Number\") if a<0 else print(\"It's a zero\")"
      ],
      "metadata": {
        "colab": {
          "base_uri": "https://localhost:8080/"
        },
        "id": "1uBPxHVAgBve",
        "outputId": "afc12f03-29ef-4d8a-eb52-64f66f590fb9"
      },
      "execution_count": null,
      "outputs": [
        {
          "output_type": "stream",
          "name": "stdout",
          "text": [
            "Enter Number20\n",
            "Positive Number\n"
          ]
        }
      ]
    },
    {
      "cell_type": "code",
      "source": [
        "#### Loops\n",
        "## For Loop - we prefer for finite loop\n",
        "## While Loop - for infinite loop we prefer"
      ],
      "metadata": {
        "id": "26SM_ZFzhGVw"
      },
      "execution_count": null,
      "outputs": []
    },
    {
      "cell_type": "code",
      "source": [
        "## For loop"
      ],
      "metadata": {
        "id": "bw8WhlH2iUyL"
      },
      "execution_count": null,
      "outputs": []
    },
    {
      "cell_type": "code",
      "source": [
        "for i in range(10):\n",
        "  print(\"The value of i is {}\".format(i))"
      ],
      "metadata": {
        "colab": {
          "base_uri": "https://localhost:8080/"
        },
        "id": "Y8yfNuS8hz26",
        "outputId": "0693480e-9ac2-4730-cc13-21f83f8e96ae"
      },
      "execution_count": null,
      "outputs": [
        {
          "output_type": "stream",
          "name": "stdout",
          "text": [
            "The value of i is 0\n",
            "The value of i is 1\n",
            "The value of i is 2\n",
            "The value of i is 3\n",
            "The value of i is 4\n",
            "The value of i is 5\n",
            "The value of i is 6\n",
            "The value of i is 7\n",
            "The value of i is 8\n",
            "The value of i is 9\n"
          ]
        }
      ]
    },
    {
      "cell_type": "code",
      "source": [
        "for i in range(15,30):\n",
        "  print(\"The value of i is {}\".format(i))"
      ],
      "metadata": {
        "colab": {
          "base_uri": "https://localhost:8080/"
        },
        "id": "JobzX7gEi2RC",
        "outputId": "a82f4411-673b-4e67-bdaa-d3407a7554d3"
      },
      "execution_count": null,
      "outputs": [
        {
          "output_type": "stream",
          "name": "stdout",
          "text": [
            "The value of i is 15\n",
            "The value of i is 16\n",
            "The value of i is 17\n",
            "The value of i is 18\n",
            "The value of i is 19\n",
            "The value of i is 20\n",
            "The value of i is 21\n",
            "The value of i is 22\n",
            "The value of i is 23\n",
            "The value of i is 24\n",
            "The value of i is 25\n",
            "The value of i is 26\n",
            "The value of i is 27\n",
            "The value of i is 28\n",
            "The value of i is 29\n"
          ]
        }
      ]
    },
    {
      "cell_type": "code",
      "source": [
        "for i in range(15,30,2):\n",
        "  print(\"The value of i is {}\".format(i))"
      ],
      "metadata": {
        "colab": {
          "base_uri": "https://localhost:8080/"
        },
        "id": "5F9L2AVFjAN-",
        "outputId": "f195f5c7-e4fa-4a98-b4c8-a8a095e1be9f"
      },
      "execution_count": null,
      "outputs": [
        {
          "output_type": "stream",
          "name": "stdout",
          "text": [
            "The value of i is 15\n",
            "The value of i is 17\n",
            "The value of i is 19\n",
            "The value of i is 21\n",
            "The value of i is 23\n",
            "The value of i is 25\n",
            "The value of i is 27\n",
            "The value of i is 29\n"
          ]
        }
      ]
    },
    {
      "cell_type": "code",
      "source": [
        "for i in range(30):\n",
        "  print(15)"
      ],
      "metadata": {
        "id": "T_C8ngtVjLgn"
      },
      "execution_count": null,
      "outputs": []
    },
    {
      "cell_type": "code",
      "source": [
        "for i in range(30,15,-2):\n",
        "  print(\"The value of i is {}\".format(i))"
      ],
      "metadata": {
        "colab": {
          "base_uri": "https://localhost:8080/"
        },
        "id": "pWYo3eLWjrwk",
        "outputId": "d5d8c8a0-b419-49ff-8e07-82086aca87ef"
      },
      "execution_count": null,
      "outputs": [
        {
          "output_type": "stream",
          "name": "stdout",
          "text": [
            "The value of i is 30\n",
            "The value of i is 28\n",
            "The value of i is 26\n",
            "The value of i is 24\n",
            "The value of i is 22\n",
            "The value of i is 20\n",
            "The value of i is 18\n",
            "The value of i is 16\n"
          ]
        }
      ]
    },
    {
      "cell_type": "code",
      "source": [
        "fruits = [\"Apple\",\"Mango\",\"Banana\",\"Guava\",\"Pineapple\"]\n",
        "for i in range(len(fruits)):\n",
        "  print(fruits[i])"
      ],
      "metadata": {
        "colab": {
          "base_uri": "https://localhost:8080/"
        },
        "id": "jexKAVX_j2iC",
        "outputId": "3e1f7218-c5ee-4688-ef6f-076931845cea"
      },
      "execution_count": null,
      "outputs": [
        {
          "output_type": "stream",
          "name": "stdout",
          "text": [
            "Apple\n",
            "Mango\n",
            "Banana\n",
            "Guava\n",
            "Pineapple\n"
          ]
        }
      ]
    },
    {
      "cell_type": "code",
      "source": [
        "### for each loop\n",
        "fruits = [\"Apple\",\"Mango\",\"Banana\",\"Guava\",\"Pineapple\"]\n",
        "for i in fruits:\n",
        "  print(i)"
      ],
      "metadata": {
        "colab": {
          "base_uri": "https://localhost:8080/"
        },
        "id": "brvTv6U0kSeH",
        "outputId": "c6892484-4636-4183-a8da-1c7e1847ac6a"
      },
      "execution_count": null,
      "outputs": [
        {
          "output_type": "stream",
          "name": "stdout",
          "text": [
            "Apple\n",
            "Mango\n",
            "Banana\n",
            "Guava\n",
            "Pineapple\n"
          ]
        }
      ]
    },
    {
      "cell_type": "code",
      "source": [
        "### for each loop\n",
        "fruits = [\"Apple\",\"Mango\",\"Banana\",\"Guava\",\"Pineapple\"]\n",
        "for i in fruits:\n",
        "  print(i,end=\" \")"
      ],
      "metadata": {
        "colab": {
          "base_uri": "https://localhost:8080/"
        },
        "id": "ZnxdXs67kZJP",
        "outputId": "b8896828-3353-46a3-dc0a-41ea96b68e45"
      },
      "execution_count": null,
      "outputs": [
        {
          "output_type": "stream",
          "name": "stdout",
          "text": [
            "Apple Mango Banana Guava Pineapple "
          ]
        }
      ]
    },
    {
      "cell_type": "code",
      "source": [
        "### While Loop\n",
        "i = 0\n",
        "while i<10:\n",
        "  print(\"The value of i is {}\".format(i))\n",
        "  i = i + 1"
      ],
      "metadata": {
        "colab": {
          "base_uri": "https://localhost:8080/"
        },
        "id": "DP_vj2UekrJ1",
        "outputId": "a7a2888b-7a01-49e9-f3ad-dc7149f6f11f"
      },
      "execution_count": null,
      "outputs": [
        {
          "output_type": "stream",
          "name": "stdout",
          "text": [
            "The value of i is 0\n",
            "The value of i is 1\n",
            "The value of i is 2\n",
            "The value of i is 3\n",
            "The value of i is 4\n",
            "The value of i is 5\n",
            "The value of i is 6\n",
            "The value of i is 7\n",
            "The value of i is 8\n",
            "The value of i is 9\n"
          ]
        }
      ]
    },
    {
      "cell_type": "code",
      "source": [
        "while True:\n",
        "  print(\"Infinite Loop\")"
      ],
      "metadata": {
        "id": "ktV6BITApLAq"
      },
      "execution_count": null,
      "outputs": []
    },
    {
      "cell_type": "markdown",
      "source": [
        "### Functions\n",
        "1. Function without argument\n",
        "2. Function with argument\n",
        "3. Function with default argument\n",
        "4. Function with return statement"
      ],
      "metadata": {
        "id": "6w1ul361qvzD"
      }
    },
    {
      "cell_type": "code",
      "source": [
        "## Function without argument\n",
        "def myFunction():\n",
        "  print(\"This is my function\")"
      ],
      "metadata": {
        "id": "yl4LxLZPphWT"
      },
      "execution_count": null,
      "outputs": []
    },
    {
      "cell_type": "code",
      "source": [
        "myFunction()\n",
        "myFunction()\n",
        "myFunction()\n",
        "myFunction()"
      ],
      "metadata": {
        "colab": {
          "base_uri": "https://localhost:8080/"
        },
        "id": "bobC9MSjqNYP",
        "outputId": "678c928d-76e8-47f1-d9aa-57005ec4a30f"
      },
      "execution_count": null,
      "outputs": [
        {
          "output_type": "stream",
          "name": "stdout",
          "text": [
            "This is my function\n",
            "This is my function\n",
            "This is my function\n",
            "This is my function\n"
          ]
        }
      ]
    },
    {
      "cell_type": "code",
      "source": [
        "## Function with argument\n",
        "def addition(a,b):\n",
        "  sum = a+b\n",
        "  print(\"The sum is {}\".format(sum))"
      ],
      "metadata": {
        "id": "fvct3wh_rkaL"
      },
      "execution_count": null,
      "outputs": []
    },
    {
      "cell_type": "code",
      "source": [
        "addition(10,20)"
      ],
      "metadata": {
        "colab": {
          "base_uri": "https://localhost:8080/"
        },
        "id": "gZW31uIAsA-y",
        "outputId": "b8eff9b3-fd97-4b24-c3cd-32c8b5d17617"
      },
      "execution_count": null,
      "outputs": [
        {
          "output_type": "stream",
          "name": "stdout",
          "text": [
            "The sum is 30\n"
          ]
        }
      ]
    },
    {
      "cell_type": "code",
      "source": [
        "addition(10.5,20.3)"
      ],
      "metadata": {
        "colab": {
          "base_uri": "https://localhost:8080/"
        },
        "id": "WzmOydnHsDUK",
        "outputId": "71d73311-dcfa-43e8-8339-139a8ec340bf"
      },
      "execution_count": null,
      "outputs": [
        {
          "output_type": "stream",
          "name": "stdout",
          "text": [
            "The sum is 30.8\n"
          ]
        }
      ]
    },
    {
      "cell_type": "code",
      "source": [
        "addition(2.3,3.3)"
      ],
      "metadata": {
        "colab": {
          "base_uri": "https://localhost:8080/"
        },
        "id": "RQ3mdEbBscJH",
        "outputId": "78ae3c70-3a66-4b51-c273-0178913a5920"
      },
      "execution_count": null,
      "outputs": [
        {
          "output_type": "stream",
          "name": "stdout",
          "text": [
            "The sum is 5.6\n"
          ]
        }
      ]
    },
    {
      "cell_type": "code",
      "source": [
        "print()"
      ],
      "metadata": {
        "colab": {
          "base_uri": "https://localhost:8080/"
        },
        "id": "xq6g2KxGtjXp",
        "outputId": "98812a83-8e1f-4ab8-f497-92f8e19fcf50"
      },
      "execution_count": null,
      "outputs": [
        {
          "output_type": "stream",
          "name": "stdout",
          "text": [
            "\n"
          ]
        }
      ]
    },
    {
      "cell_type": "code",
      "source": [
        "## Function with default argument\n",
        "def addition_default(a,b=10):\n",
        "  sum = a+b\n",
        "  print(\"The sum is {}\".format(sum))"
      ],
      "metadata": {
        "id": "3wjt65KQtJr4"
      },
      "execution_count": null,
      "outputs": []
    },
    {
      "cell_type": "code",
      "source": [
        "addition_default(10,20)"
      ],
      "metadata": {
        "colab": {
          "base_uri": "https://localhost:8080/"
        },
        "id": "QXwCTZTKt1wG",
        "outputId": "3f191d38-7dba-4188-848e-cbf1325adc6d"
      },
      "execution_count": null,
      "outputs": [
        {
          "output_type": "stream",
          "name": "stdout",
          "text": [
            "The sum is 30\n"
          ]
        }
      ]
    },
    {
      "cell_type": "code",
      "source": [
        "addition_default(10)"
      ],
      "metadata": {
        "colab": {
          "base_uri": "https://localhost:8080/"
        },
        "id": "eN1A3eOgt4G5",
        "outputId": "dcf42cfe-0c36-476f-9296-06e976116593"
      },
      "execution_count": null,
      "outputs": [
        {
          "output_type": "stream",
          "name": "stdout",
          "text": [
            "The sum is 20\n"
          ]
        }
      ]
    },
    {
      "cell_type": "code",
      "source": [
        "addition_default(\"a\",\"b\")"
      ],
      "metadata": {
        "colab": {
          "base_uri": "https://localhost:8080/"
        },
        "id": "GJxpcLZTt5rz",
        "outputId": "e9f86f46-0259-4778-897a-686dcc7bd9aa"
      },
      "execution_count": null,
      "outputs": [
        {
          "output_type": "stream",
          "name": "stdout",
          "text": [
            "The sum is ab\n"
          ]
        }
      ]
    },
    {
      "cell_type": "code",
      "source": [
        "## Function with return statement"
      ],
      "metadata": {
        "id": "JyS136n3uBvD"
      },
      "execution_count": null,
      "outputs": []
    },
    {
      "cell_type": "code",
      "source": [
        "result = addition_default(10,20)"
      ],
      "metadata": {
        "colab": {
          "base_uri": "https://localhost:8080/"
        },
        "id": "0saDRZEjuSse",
        "outputId": "67a468ae-2b0a-4812-bbec-7e266671dbe7"
      },
      "execution_count": null,
      "outputs": [
        {
          "output_type": "stream",
          "name": "stdout",
          "text": [
            "The sum is 30\n"
          ]
        }
      ]
    },
    {
      "cell_type": "code",
      "source": [
        "print(result)"
      ],
      "metadata": {
        "colab": {
          "base_uri": "https://localhost:8080/"
        },
        "id": "HAvdJGOiuUqu",
        "outputId": "689ddbd2-329f-423a-90ee-1fe536866d62"
      },
      "execution_count": null,
      "outputs": [
        {
          "output_type": "stream",
          "name": "stdout",
          "text": [
            "None\n"
          ]
        }
      ]
    },
    {
      "cell_type": "code",
      "source": [
        "## Function with return statement\n",
        "def addition_return(a,b=10):\n",
        "  sum = a+b\n",
        "  return(\"The sum is {}\".format(sum))"
      ],
      "metadata": {
        "id": "NweXyD5XuaXm"
      },
      "execution_count": null,
      "outputs": []
    },
    {
      "cell_type": "code",
      "source": [
        "result = addition_return(10)"
      ],
      "metadata": {
        "id": "pTCAQ1RNummB"
      },
      "execution_count": null,
      "outputs": []
    },
    {
      "cell_type": "code",
      "source": [
        "print(result)"
      ],
      "metadata": {
        "colab": {
          "base_uri": "https://localhost:8080/"
        },
        "id": "JCdsVDqauooT",
        "outputId": "fe96723c-0178-4b69-92c1-98a4e0a1a2f1"
      },
      "execution_count": null,
      "outputs": [
        {
          "output_type": "stream",
          "name": "stdout",
          "text": [
            "The sum is 20\n"
          ]
        }
      ]
    },
    {
      "cell_type": "code",
      "source": [
        "def calculation(a,b=10):\n",
        "  sum = a+b\n",
        "  dif = a-b\n",
        "  mul = a*b\n",
        "  div = a/b\n",
        "  return sum,dif,mul,div"
      ],
      "metadata": {
        "id": "NNuPPu17upkN"
      },
      "execution_count": null,
      "outputs": []
    },
    {
      "cell_type": "code",
      "source": [
        "result = calculation(20)\n",
        "print(result)"
      ],
      "metadata": {
        "colab": {
          "base_uri": "https://localhost:8080/"
        },
        "id": "P1P3-LwRvCuY",
        "outputId": "0b952083-1e85-444f-ddfd-da458fc1da5d"
      },
      "execution_count": null,
      "outputs": [
        {
          "output_type": "stream",
          "name": "stdout",
          "text": [
            "(30, 10, 200, 2.0)\n"
          ]
        }
      ]
    },
    {
      "cell_type": "code",
      "source": [],
      "metadata": {
        "id": "VNclem7rvJ-8"
      },
      "execution_count": null,
      "outputs": []
    }
  ]
}